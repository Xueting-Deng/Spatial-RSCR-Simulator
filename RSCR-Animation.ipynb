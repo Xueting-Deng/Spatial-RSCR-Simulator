{
 "cells": [
  {
   "cell_type": "code",
   "execution_count": 1,
   "id": "2979f943",
   "metadata": {},
   "outputs": [
    {
     "data": {
      "text/html": [
       "<div id=\"glowscript\" class=\"glowscript\"></div>"
      ],
      "text/plain": [
       "<IPython.core.display.HTML object>"
      ]
     },
     "metadata": {},
     "output_type": "display_data"
    },
    {
     "data": {
      "application/javascript": [
       "if (typeof Jupyter !== \"undefined\") { window.__context = { glowscript_container: $(\"#glowscript\").removeAttr(\"id\")};}else{ element.textContent = ' ';}"
      ],
      "text/plain": [
       "<IPython.core.display.Javascript object>"
      ]
     },
     "metadata": {},
     "output_type": "display_data"
    }
   ],
   "source": [
    "import numpy as np\n",
    "from scipy.optimize import root\n",
    "from vpython import *\n",
    "import math\n",
    "import time\n"
   ]
  },
  {
   "cell_type": "code",
   "execution_count": 2,
   "id": "cac4471d",
   "metadata": {},
   "outputs": [],
   "source": [
    "%run \"C:\\SBU-3\\Jupyter-Research\\RSCR\\Functions.ipynb\""
   ]
  },
  {
   "attachments": {
    "RSPR.PNG": {
     "image/png": "[encoded data removed]"
    }
   },
   "cell_type": "markdown",
   "id": "27001bc1",
   "metadata": {},
   "source": [
    "![RSPR.PNG](attachment:RSPR.PNG)"
   ]
  },
  {
   "cell_type": "code",
   "execution_count": null,
   "id": "6a735a18",
   "metadata": {},
   "outputs": [],
   "source": [
    "# Fixed parameters, the order is 0,1,2,u1,u2\n",
    "Fixed_para = np.array([\n",
    "    [-1,0,0], #0 - fixed\n",
    "    [0.26124984, -0.34487408, -1.62759972],  #1 - fixed\n",
    "    [-0.2732265 ,  1.55609512, -3.65260601],  #2 - fixed\n",
    "    [ 0.97530392,  0.21334773, -0.05714027],  #u1 - fixed\n",
    "    [-0.89989856, -0.41033263, -0.14768114]   #u2 - fixed\n",
    "]);\n",
    "\n",
    "\n",
    "Initial_pos_3 = np.array([-0.00598834,  0.60561055, -2.64010286])\n",
    "Initial_pos_4 = np.array([ 1.08431971, -2.16704273, -1.58009279])\n",
    "Initial_u5 = np.array([-0.32498458, -0.17104471, -0.93012297])\n",
    "\n",
    "config_para = ComputeConfig(Fixed_para, Initial_pos_3, Initial_pos_4, Initial_u5);\n",
    "\n"
   ]
  },
  {
   "cell_type": "code",
   "execution_count": null,
   "id": "f32bb362",
   "metadata": {},
   "outputs": [],
   "source": [
    "mec_num = 1\n",
    "\n",
    "Fixed_para = np.array([\n",
    "    [-1,0,0], #0 - fixed\n",
    "    [ -1,0,0],  #1 - fixed\n",
    "    [ 8,0,0],  #2 - fixed\n",
    "    [ -np.sqrt(2)/2, 0, np.sqrt(2)/2],  #u1 - fixed\n",
    "    [np.sqrt(2)/2, 0, np.sqrt(2)/2 ]   #u2 - fixed\n",
    "]);\n",
    "\n",
    "fullyrotated_num = 0;\n",
    "temp_count = 0;\n",
    "\n",
    "step = 360; # this step decides how to devide 2pi\n",
    "mec_data = np.zeros((mec_num*27,9,3), dtype=np.float64);\n",
    "path_data = np.zeros((mec_num*27,step,3), dtype=np.float64);\n",
    "\n",
    "Initial_pos_3 = np.array([1, 5, 0])\n",
    "Initial_pos_4 = np.array([3, 4, 3 ])\n",
    "Initial_u5 = np.array([np.sqrt(2)/2,0,-np.sqrt(2)/2])\n",
    "#Initial_u5 = Initial_u5/np.linalg.norm(Initial_u5)\n",
    "\n",
    "config_para = ComputeConfig(Fixed_para, Initial_pos_3, Initial_pos_4, Initial_u5);\n",
    "print(config_para)"
   ]
  },
  {
   "cell_type": "code",
   "execution_count": null,
   "id": "15785205",
   "metadata": {},
   "outputs": [],
   "source": [
    "mec_num = 1\n",
    "\n",
    "Fixed_para = np.array([\n",
    "    [-1,0,0], #0 - fixed\n",
    "    [ 0,0,0],  #1 - fixed\n",
    "    [ 5,0,0],  #2 - fixed\n",
    "    [ 0,0,1],  #u1 - fixed\n",
    "    [np.sqrt(2)/2,0,  np.sqrt(2)/2  ]   #u2 - fixed\n",
    "]);\n",
    "\n",
    "fullyrotated_num = 0;\n",
    "temp_count = 0;\n",
    "\n",
    "step = 360; # this step decides how to devide 2pi\n",
    "mec_data = np.zeros((mec_num*27,9,3), dtype=np.float64);\n",
    "path_data = np.zeros((mec_num*27,step,3), dtype=np.float64);\n",
    "\n",
    "Initial_pos_3 = np.array([0, 2, 0])\n",
    "Initial_pos_4 = np.array([ 3, 4,  0 ])\n",
    "Initial_u5 = np.array([np.sqrt(2)/2, 1/2,1/2])\n",
    "#Initial_u5 = Initial_u5/np.linalg.norm(Initial_u5)\n",
    "\n",
    "config_para = ComputeConfig(Fixed_para, Initial_pos_3, Initial_pos_4, Initial_u5);\n",
    "print(config_para)"
   ]
  },
  {
   "cell_type": "code",
   "execution_count": null,
   "id": "bfdebf36",
   "metadata": {},
   "outputs": [],
   "source": []
  },
  {
   "cell_type": "code",
   "execution_count": null,
   "id": "e556f9e6",
   "metadata": {},
   "outputs": [],
   "source": [
    "scene = canvas(width=800,height=500,center=vector(0,4,0),background=color.white);\n",
    "\n",
    "\n",
    "new_pos_3 = Initial_pos_3;\n",
    "upara = Initial_para;\n",
    "#frame\n",
    "#x_arrow = arrow(pos=vector(0,0,0), axis=vector(10,0,0), shaftwidth=0.2, color=color.red, opacity=0.4); #x\n",
    "#label(pos=vector(10,0,0), text ='x', xoffset=-2, yoffset=5);\n",
    "#y_arrow = arrow(pos=vector(0,0,0), axis=vector(0,10,0), shaftwidth=0.2, color=color.green, opacity=0.4); #y\n",
    "#label(pos=vector(0,10,0), text ='y', xoffset=-2, yoffset=5);\n",
    "#z_arrow = arrow(pos=vector(0,0,0), axis=vector(0,0,10), shaftwidth=0.2, color=color.blue, opacity=0.4); #z\n",
    "#label(pos=vector(0,0,10), text ='z', xoffset=-2, yoffset=5);\n",
    "\n",
    "#joint 1 - fixed joint\n",
    "joint_f1_front = cylinder(pos=vector(Fixed_para[1,0],Fixed_para[1,1],Fixed_para[1,2]), axis=vector(0.5*Fixed_para[3,0],0.5*Fixed_para[3,1],0.5*Fixed_para[3,2]),radius=0.5,color=color.red);\n",
    "joint_f1_back = cylinder(pos=vector(Fixed_para[1,0],Fixed_para[1,1],Fixed_para[1,2]), axis=vector(-0.5*Fixed_para[3,0],-0.5*Fixed_para[3,1],-0.5*Fixed_para[3,2]),radius=0.5,color=color.red);\n",
    "#joint 1 - revolute joint\n",
    "joint_r1_front = cylinder(pos=vector(Fixed_para[1,0],Fixed_para[1,1],Fixed_para[1,2]), axis=vector(Fixed_para[3,0],Fixed_para[3,1],Fixed_para[3,2]),radius=0.3,color=vector(0.5,0.5,0.5));\n",
    "joint_r1_back = cylinder(pos=vector(Fixed_para[1,0],Fixed_para[1,1],Fixed_para[1,2]), axis=vector(-Fixed_para[3,0],-Fixed_para[3,1],-Fixed_para[3,2]),radius=0.3,color=vector(0.5,0.5,0.5));\n",
    "\n",
    "#joint 2 - fixed joint\n",
    "joint_r2_front = cylinder(pos=vector(Fixed_para[2,0],Fixed_para[2,1],Fixed_para[2,2]), axis=vector(0.5*Fixed_para[4,0],0.5*Fixed_para[4,1],0.5*Fixed_para[4,2]),radius=0.5,color=color.blue);\n",
    "joint_r2_back = cylinder(pos=vector(Fixed_para[2,0],Fixed_para[2,1],Fixed_para[2,2]), axis=vector(-0.5*Fixed_para[4,0],-0.5*Fixed_para[4,1],-0.5*Fixed_para[4,2]),radius=0.5,color=color.blue);\n",
    "#joint 2 - revolute joint\n",
    "joint_r2_front = cylinder(pos=vector(Fixed_para[2,0],Fixed_para[2,1],Fixed_para[2,2]), axis=vector(Fixed_para[4,0],Fixed_para[4,1],Fixed_para[4,2]),radius=0.3,color=vector(0.5,0.5,0.5));\n",
    "joint_r2_back = cylinder(pos=vector(Fixed_para[2,0],Fixed_para[2,1],Fixed_para[2,2]), axis=vector(-Fixed_para[4,0],-Fixed_para[4,1],-Fixed_para[4,2]),radius=0.3,color=vector(0.5,0.5,0.5));\n",
    "\n",
    "#joint 3 - spherical joint\n",
    "joint_s3 = sphere(pos=vector(new_pos_3[0],new_pos_3[1],new_pos_3[2]),radius=0.3);\n",
    "\n",
    "#joint 4 - connect joint of joint 3 and joint 5\n",
    "joint_s4 = sphere(pos=vector(upara[0],upara[1],upara[2]),radius=0.15, color=color.green);\n",
    "\n",
    "#joint 6 - connect joint of joint 3 and joint 5\n",
    "#joint_s6 = sphere(pos=vector(3,6,-1.5),radius=0.2, color=color.yellow);\n",
    "#bar 36\n",
    "vector_36 = -vector(new_pos_3[0]+0.2*(upara[0]-new_pos_3[0]),new_pos_3[1]+0.2*(upara[1]-new_pos_3[1]),new_pos_3[2]+(0.2*upara[2]-new_pos_3[2]))+vector(3,6,-1.5);\n",
    "#bar_36 = cylinder(pos=vector(new_pos_3[0]+0.2*(upara[0]-new_pos_3[0]),new_pos_3[1]+0.2*(upara[1]-new_pos_3[1]),new_pos_3[2]+(0.2*upara[2]-new_pos_3[2])), axis=vector_36, radius=0.15, color=color.green, opacity=0.6);\n",
    "#bar 56\n",
    "vector_56 = -vector(upara[3]+4*upara[6],upara[4]+4*upara[7],upara[5]+4*upara[8])+vector(3,6,-1.5);\n",
    "#bar_56 = cylinder(pos=vector(upara[3]+4*upara[6],upara[4]+4*upara[7],upara[5]+4*upara[8]), axis=vector_56, radius=0.15, color=color.green, opacity=0.6);\n",
    "\n",
    "#joint 5 - sliding joint\n",
    "joint_c5_front = cylinder(pos=vector(upara[3]+1.5*upara[6],upara[4]+1.5*upara[7],upara[5]+1.5*upara[8]), axis=vector(0.3*upara[6],0.3*upara[7],0.3*upara[8]),radius=0.3,color=color.blue);\n",
    "joint_c5_back = cylinder(pos=vector(upara[3]+1.5*upara[6],upara[4]+1.5*upara[7],upara[5]+1.5*upara[8]), axis=vector(-0.3*upara[6],-0.3*upara[7],-0.3*upara[8]),radius=0.3,color=color.blue);\n",
    "\n",
    "\n",
    "#bar 13\n",
    "vector_13 = -vector(Fixed_para[1,0],Fixed_para[1,1],Fixed_para[1,2])+vector(new_pos_3[0],new_pos_3[1],new_pos_3[2]);\n",
    "bar_13 = cylinder(pos=vector(Fixed_para[1,0],Fixed_para[1,1],Fixed_para[1,2]), axis=vector_13, radius=0.15, color=color.red);\n",
    "\n",
    "#bar 34\n",
    "vector_34 = vector(upara[0],upara[1],upara[2])-vector(new_pos_3[0],new_pos_3[1],new_pos_3[2]);\n",
    "bar_34 = cylinder(pos=vector(new_pos_3[0],new_pos_3[1],new_pos_3[2]), axis=vector_34, radius=0.15, color=color.green, opacity=0.6);\n",
    "\n",
    "#bar 45\n",
    "#vector_45 = 10*(vector(upara[0][3],upara[0][4],upara[0][5])-vector(upara[0][0],upara[0][1],upara[0][2]));\n",
    "vector_45 = 2.5*(vector(upara[6],upara[7],upara[8]));\n",
    "bar_45 = cylinder(pos=vector(upara[0],upara[1],upara[2]), axis=vector_45, radius=0.15, color=color.green, opacity=0.8);\n",
    "#bar_45_back = cylinder(pos=vector(upara[0],upara[1],upara[2]), axis=-vector_45, radius=0.15, color=color.red, opacity=0.6);\n",
    "\n",
    "#bar 52\n",
    "vector_52 = -vector(Fixed_para[2,0],Fixed_para[2,1],Fixed_para[2,2])+vector(upara[3]+1.5*upara[6],upara[4]+1.5*upara[7],upara[5]+1.5*upara[8]);\n",
    "bar_52 = cylinder(pos=vector(Fixed_para[2,0],Fixed_para[2,1],Fixed_para[2,2]), axis=vector_52, radius=0.15, color=color.blue);\n",
    "scene.capture('RSCR')"
   ]
  },
  {
   "cell_type": "code",
   "execution_count": null,
   "id": "d151be3b",
   "metadata": {},
   "outputs": [],
   "source": [
    "scene = canvas(width=800,height=500,center=vector(0,4,0),background=color.white);\n",
    "\n",
    "\n",
    "new_pos_3 = Initial_pos_3;\n",
    "upara = Initial_para;\n",
    "#frame\n",
    "#x_arrow = arrow(pos=vector(0,0,0), axis=vector(10,0,0), shaftwidth=0.2, color=color.red, opacity=0.4); #x\n",
    "#label(pos=vector(10,0,0), text ='x', xoffset=-2, yoffset=5);\n",
    "#y_arrow = arrow(pos=vector(0,0,0), axis=vector(0,10,0), shaftwidth=0.2, color=color.green, opacity=0.4); #y\n",
    "#label(pos=vector(0,10,0), text ='y', xoffset=-2, yoffset=5);\n",
    "#z_arrow = arrow(pos=vector(0,0,0), axis=vector(0,0,10), shaftwidth=0.2, color=color.blue, opacity=0.4); #z\n",
    "#label(pos=vector(0,0,10), text ='z', xoffset=-2, yoffset=5);\n",
    "\n",
    "#joint 1 - fixed joint\n",
    "joint_f1_front = cylinder(pos=vector(Fixed_para[1,0],Fixed_para[1,1],Fixed_para[1,2]), axis=vector(0.5*Fixed_para[3,0],0.5*Fixed_para[3,1],0.5*Fixed_para[3,2]),radius=0.5,color=color.red);\n",
    "joint_f1_back = cylinder(pos=vector(Fixed_para[1,0],Fixed_para[1,1],Fixed_para[1,2]), axis=vector(-0.5*Fixed_para[3,0],-0.5*Fixed_para[3,1],-0.5*Fixed_para[3,2]),radius=0.5,color=color.red);\n",
    "#joint 1 - revolute joint\n",
    "joint_r1_front = cylinder(pos=vector(Fixed_para[1,0],Fixed_para[1,1],Fixed_para[1,2]), axis=vector(Fixed_para[3,0],Fixed_para[3,1],Fixed_para[3,2]),radius=0.3,color=vector(0.5,0.5,0.5));\n",
    "joint_r1_back = cylinder(pos=vector(Fixed_para[1,0],Fixed_para[1,1],Fixed_para[1,2]), axis=vector(-Fixed_para[3,0],-Fixed_para[3,1],-Fixed_para[3,2]),radius=0.3,color=vector(0.5,0.5,0.5));\n",
    "\n",
    "#joint 2 - fixed joint\n",
    "joint_r2_front = cylinder(pos=vector(Fixed_para[2,0],Fixed_para[2,1],Fixed_para[2,2]), axis=vector(0.5*Fixed_para[4,0],0.5*Fixed_para[4,1],0.5*Fixed_para[4,2]),radius=0.5,color=color.blue);\n",
    "joint_r2_back = cylinder(pos=vector(Fixed_para[2,0],Fixed_para[2,1],Fixed_para[2,2]), axis=vector(-0.5*Fixed_para[4,0],-0.5*Fixed_para[4,1],-0.5*Fixed_para[4,2]),radius=0.5,color=color.blue);\n",
    "#joint 2 - revolute joint\n",
    "joint_r2_front = cylinder(pos=vector(Fixed_para[2,0],Fixed_para[2,1],Fixed_para[2,2]), axis=vector(Fixed_para[4,0],Fixed_para[4,1],Fixed_para[4,2]),radius=0.3,color=vector(0.5,0.5,0.5));\n",
    "joint_r2_back = cylinder(pos=vector(Fixed_para[2,0],Fixed_para[2,1],Fixed_para[2,2]), axis=vector(-Fixed_para[4,0],-Fixed_para[4,1],-Fixed_para[4,2]),radius=0.3,color=vector(0.5,0.5,0.5));\n",
    "\n",
    "#joint 3 - spherical joint\n",
    "joint_s3 = sphere(pos=vector(new_pos_3[0],new_pos_3[1],new_pos_3[2]),radius=0.3);\n",
    "\n",
    "#joint 4 - connect joint of joint 3 and joint 5\n",
    "joint_s4 = sphere(pos=vector(upara[0],upara[1],upara[2]),radius=0.15, color=color.green);\n",
    "\n",
    "\n",
    "#joint 5 - sliding joint\n",
    "joint_c5_front = cylinder(pos=vector(upara[3],upara[4],upara[5]), axis=vector(0.3*upara[6],0.3*upara[7],0.3*upara[8]),radius=0.3,color=color.blue);\n",
    "joint_c5_back = cylinder(pos=vector(upara[3],upara[4],upara[5]), axis=vector(-0.3*upara[6],-0.3*upara[7],-0.3*upara[8]),radius=0.3,color=color.blue);\n",
    "\n",
    "\n",
    "#bar 13\n",
    "vector_13 = -vector(Fixed_para[1,0],Fixed_para[1,1],Fixed_para[1,2])+vector(new_pos_3[0],new_pos_3[1],new_pos_3[2]);\n",
    "bar_13 = cylinder(pos=vector(Fixed_para[1,0],Fixed_para[1,1],Fixed_para[1,2]), axis=vector_13, radius=0.15, color=color.red);\n",
    "\n",
    "#bar 34\n",
    "vector_34 = vector(upara[0],upara[1],upara[2])-vector(new_pos_3[0],new_pos_3[1],new_pos_3[2]);\n",
    "bar_34 = cylinder(pos=vector(new_pos_3[0],new_pos_3[1],new_pos_3[2]), axis=vector_34, radius=0.15, color=color.green, opacity=0.6);\n",
    "\n",
    "#bar 45\n",
    "#vector_45 = 10*(vector(upara[0][3],upara[0][4],upara[0][5])-vector(upara[0][0],upara[0][1],upara[0][2]));\n",
    "vector_45 = 2.5*(vector(upara[6],upara[7],upara[8]));\n",
    "bar_45 = cylinder(pos=vector(upara[0],upara[1],upara[2]), axis=vector_45, radius=0.15, color=color.green, opacity=0.8);\n",
    "bar_45_back = cylinder(pos=vector(upara[0],upara[1],upara[2]), axis=-vector_45, radius=0.15, color=color.green, opacity=0.8);\n",
    "\n",
    "#bar 52\n",
    "vector_52 = -vector(Fixed_para[2,0],Fixed_para[2,1],Fixed_para[2,2])+vector(upara[3],upara[4],upara[5]);\n",
    "bar_52 = cylinder(pos=vector(Fixed_para[2,0],Fixed_para[2,1],Fixed_para[2,2]), axis=vector_52, radius=0.15, color=color.blue);\n",
    "\n",
    "scene.capture('RSCR')"
   ]
  },
  {
   "cell_type": "code",
   "execution_count": 3,
   "id": "a12767bf",
   "metadata": {},
   "outputs": [
    {
     "name": "stdout",
     "output_type": "stream",
     "text": [
      "[1.         3.60555128 3.60555128 1.9738534  2.19981113 1.04719755\n",
      " 1.9738534 ]\n"
     ]
    }
   ],
   "source": [
    "mec_num = 1\n",
    "\n",
    "Fixed_para = np.array([\n",
    "    [-1,0,0], #0 - fixed\n",
    "    [ 0,0,0],  #1 - fixed\n",
    "    [ 5,0,0],  #2 - fixed\n",
    "    [ 0,0,1],  #u1 - fixed\n",
    "    [np.sqrt(2)/2, 0, np.sqrt(2)/2 ]   #u2 - fixed\n",
    "]);\n",
    "\n",
    "fullyrotated_num = 0;\n",
    "temp_count = 0;\n",
    "\n",
    "step = 360; # this step decides how to devide 2pi\n",
    "mec_data = np.zeros((mec_num*27,9,3), dtype=np.float64);\n",
    "path_data = np.zeros((mec_num*27,step,3), dtype=np.float64);\n",
    "\n",
    "Initial_pos_3 = np.array([0, 1, 0])\n",
    "Initial_pos_4 = np.array([3, 3,  0 ])\n",
    "Initial_u5 = np.array([0, np.sqrt(2)/2,np.sqrt(2)/2])\n",
    "#Initial_u5 = Initial_u5/np.linalg.norm(Initial_u5)\n",
    "\n",
    "config_para = ComputeConfig(Fixed_para, Initial_pos_3, Initial_pos_4, Initial_u5);\n",
    "print(config_para)"
   ]
  },
  {
   "cell_type": "code",
   "execution_count": 4,
   "id": "f7708067",
   "metadata": {},
   "outputs": [
    {
     "name": "stdout",
     "output_type": "stream",
     "text": [
      "True\n"
     ]
    }
   ],
   "source": [
    "Initial_guess = Initial_pos_4, Initial_pos_4, Initial_u5;\n",
    "Initial_para = Initial_guess;\n",
    "Initial_para, condition = solve_equations(Fixed_para, config_para, Initial_guess, Initial_pos_3);\n",
    "print(condition)"
   ]
  },
  {
   "cell_type": "code",
   "execution_count": 5,
   "id": "c005f531",
   "metadata": {},
   "outputs": [
    {
     "name": "stdout",
     "output_type": "stream",
     "text": [
      "0.29353833198547363 s\n"
     ]
    }
   ],
   "source": [
    "start_time = time.time()\n",
    "config_para_t = config_para;\n",
    "initial_solution_t = np.reshape(Initial_para,(1,9));\n",
    "\n",
    "# Step2: \n",
    "phi = 0;\n",
    "step = 360; # this step decides how to devide 2pi\n",
    "step_para = np.zeros((step,9)); # store every position of point_4\n",
    "step_para[0,:] = initial_solution_t;\n",
    "\n",
    "step_pos_3 = np.zeros((step,3));\n",
    "step_pos_3[0,:] = Initial_pos_3;\n",
    "\n",
    "#Initial_pos_3 = Fixed_para[1,:] + np.array([0,config_para_t[0],0]);\n",
    "u_13 = np.append(0, Initial_pos_3) - np.append(0,Fixed_para[1]);\n",
    "new_u_13 = u_13;\n",
    "\n",
    "for i in range(step-1):  \n",
    "    phi = phi + 360/step;\n",
    "\n",
    "    #below calculate the next position of 3 by quaternion\n",
    "    theta = np.pi*phi/360; #thera is half of phi\n",
    "    rotation_quater = np.array([np.cos(theta), np.sin(theta)*Fixed_para[3,0], np.sin(theta)*Fixed_para[3,1], np.sin(theta)*Fixed_para[3,2]]);#the quaternion of rotation\n",
    "    new_u_13 = QuaterTimes(QuaterTimes(rotation_quater,u_13),QuaterConj(rotation_quater));\n",
    "    new_pos_3 = new_u_13[1:4] + Fixed_para[1,:];\n",
    "    step_pos_3[i+1] = new_pos_3;\n",
    "    temp_solution, condition = solve_equations(Fixed_para, config_para_t, step_para[i,:], new_pos_3);\n",
    "\n",
    "    if condition == True:\n",
    "        #print('-------------------------')\n",
    "        step_para[i+1,:] = np.reshape(temp_solution,(1,9));\n",
    "        step_pos_3[i+1] = new_pos_3;\n",
    "    else:\n",
    "        print(i)\n",
    "        print(\"no full rotation\");\n",
    "        break\n",
    "print(time.time()-start_time,\"s\")"
   ]
  },
  {
   "cell_type": "code",
   "execution_count": 9,
   "id": "2542596d",
   "metadata": {},
   "outputs": [
    {
     "data": {
      "text/plain": [
       "(360, 9)"
      ]
     },
     "execution_count": 9,
     "metadata": {},
     "output_type": "execute_result"
    }
   ],
   "source": [
    "step_para.shape"
   ]
  },
  {
   "cell_type": "code",
   "execution_count": 12,
   "id": "ccac5a30",
   "metadata": {},
   "outputs": [
    {
     "data": {
      "text/plain": [
       "array([[ 0.        ,  0.70710678,  0.70710678],\n",
       "       [-0.00411094,  0.70295978,  0.71121772],\n",
       "       [-0.00821545,  0.69874646,  0.71532223],\n",
       "       [-0.01231242,  0.694467  ,  0.7194192 ],\n",
       "       [-0.01640075,  0.69012164,  0.72350753],\n",
       "       [-0.02047932,  0.68571063,  0.7275861 ],\n",
       "       [-0.02454703,  0.68123428,  0.73165381],\n",
       "       [-0.02860277,  0.67669294,  0.73570955],\n",
       "       [-0.03264544,  0.672087  ,  0.73975222],\n",
       "       [-0.03667391,  0.66741689,  0.74378069],\n",
       "       [-0.0406871 ,  0.66268309,  0.74779388],\n",
       "       [-0.04468389,  0.65788612,  0.75179067],\n",
       "       [-0.04866318,  0.65302654,  0.75576996],\n",
       "       [-0.05262387,  0.64810498,  0.75973065],\n",
       "       [-0.05656487,  0.64312209,  0.76367165],\n",
       "       [-0.06048507,  0.6380786 ,  0.76759186],\n",
       "       [-0.0643834 ,  0.63297526,  0.77149018],\n",
       "       [-0.06825875,  0.62781289,  0.77536554],\n",
       "       [-0.07211006,  0.62259237,  0.77921684],\n",
       "       [-0.07593624,  0.61731461,  0.78304302],\n",
       "       [-0.07973621,  0.61198059,  0.78684299],\n",
       "       [-0.08350893,  0.60659134,  0.79061571],\n",
       "       [-0.08725332,  0.60114797,  0.7943601 ],\n",
       "       [-0.09096835,  0.59565161,  0.79807513],\n",
       "       [-0.09465297,  0.59010349,  0.80175975],\n",
       "       [-0.09830614,  0.58450485,  0.80541292],\n",
       "       [-0.10192686,  0.57885705,  0.80903364],\n",
       "       [-0.10551411,  0.57316146,  0.81262089],\n",
       "       [-0.1090669 ,  0.56741954,  0.81617368],\n",
       "       [-0.11258424,  0.56163282,  0.81969102],\n",
       "       [-0.11606516,  0.55580287,  0.82317194],\n",
       "       [-0.11950871,  0.54993135,  0.82661549],\n",
       "       [-0.12291396,  0.54401997,  0.83002074],\n",
       "       [-0.12627998,  0.53807052,  0.83338676],\n",
       "       [-0.12960586,  0.53208483,  0.83671265],\n",
       "       [-0.13289074,  0.52606484,  0.83999752],\n",
       "       [-0.13613374,  0.52001253,  0.84324052],\n",
       "       [-0.13933403,  0.51392995,  0.84644081],\n",
       "       [-0.14249078,  0.50781922,  0.84959756],\n",
       "       [-0.1456032 ,  0.50168256,  0.85270999],\n",
       "       [-0.14867054,  0.49552221,  0.85577732],\n",
       "       [-0.15169203,  0.48934051,  0.85879881],\n",
       "       [-0.15466697,  0.48313987,  0.86177375],\n",
       "       [-0.15759467,  0.47692275,  0.86470146],\n",
       "       [-0.16047448,  0.47069171,  0.86758127],\n",
       "       [-0.16330578,  0.46444935,  0.87041256],\n",
       "       [-0.16608796,  0.45819835,  0.87319474],\n",
       "       [-0.16882048,  0.45194145,  0.87592726],\n",
       "       [-0.17150281,  0.44568147,  0.87860959],\n",
       "       [-0.17413446,  0.43942128,  0.88124124],\n",
       "       [-0.17671499,  0.43316381,  0.88382177],\n",
       "       [-0.17924398,  0.42691208,  0.88635076],\n",
       "       [-0.18172107,  0.42066913,  0.88882785],\n",
       "       [-0.18414591,  0.41443808,  0.89125269],\n",
       "       [-0.18651823,  0.4082221 ,  0.89362501],\n",
       "       [-0.18883778,  0.40202441,  0.89594457],\n",
       "       [-0.19110436,  0.39584829,  0.89821114],\n",
       "       [-0.19331781,  0.38969704,  0.90042459],\n",
       "       [-0.19547801,  0.38357402,  0.9025848 ],\n",
       "       [-0.19758491,  0.37748264,  0.90469169],\n",
       "       [-0.19963848,  0.3714263 ,  0.90674527],\n",
       "       [-0.20163876,  0.36540848,  0.90874554],\n",
       "       [-0.20358581,  0.35943264,  0.91069259],\n",
       "       [-0.20547976,  0.35350229,  0.91258654],\n",
       "       [-0.20732079,  0.34762093,  0.91442757],\n",
       "       [-0.20910911,  0.34179208,  0.91621589],\n",
       "       [-0.21084499,  0.33601926,  0.91795177],\n",
       "       [-0.21252875,  0.33030596,  0.91963553],\n",
       "       [-0.21416075,  0.32465569,  0.92126753],\n",
       "       [-0.2157414 ,  0.31907191,  0.92284818],\n",
       "       [-0.21727116,  0.31355808,  0.92437794],\n",
       "       [-0.21875053,  0.3081176 ,  0.92585731],\n",
       "       [-0.22018005,  0.30275384,  0.92728683],\n",
       "       [-0.22156031,  0.29747011,  0.92866709],\n",
       "       [-0.22289194,  0.29226966,  0.92999873],\n",
       "       [-0.22417562,  0.28715568,  0.9312824 ],\n",
       "       [-0.22541204,  0.28213128,  0.93251882],\n",
       "       [-0.22660195,  0.27719948,  0.93370874],\n",
       "       [-0.22774613,  0.27236322,  0.93485292],\n",
       "       [-0.22884539,  0.26762533,  0.93595217],\n",
       "       [-0.22990056,  0.26298854,  0.93700734],\n",
       "       [-0.23091251,  0.25845547,  0.93801929],\n",
       "       [-0.23188212,  0.2540286 ,  0.9389889 ],\n",
       "       [-0.2328103 ,  0.2497103 ,  0.93991709],\n",
       "       [-0.23369799,  0.2455028 ,  0.94080477],\n",
       "       [-0.23454612,  0.2414082 ,  0.94165291],\n",
       "       [-0.23535566,  0.23742845,  0.94246244],\n",
       "       [-0.23612755,  0.23356535,  0.94323433],\n",
       "       [-0.23686278,  0.22982056,  0.94396956],\n",
       "       [-0.23756232,  0.22619557,  0.9446691 ],\n",
       "       [-0.23822714,  0.22269175,  0.94533392],\n",
       "       [-0.23885821,  0.21931027,  0.94596499],\n",
       "       [-0.2394565 ,  0.21605217,  0.94656328],\n",
       "       [-0.24002297,  0.21291833,  0.94712975],\n",
       "       [-0.24055855,  0.20990949,  0.94766534],\n",
       "       [-0.2410642 ,  0.2070262 ,  0.94817098],\n",
       "       [-0.24154081,  0.2042689 ,  0.94864759],\n",
       "       [-0.24198929,  0.20163786,  0.94909607],\n",
       "       [-0.24241052,  0.19913322,  0.9495173 ],\n",
       "       [-0.24280534,  0.19675497,  0.94991213]])"
      ]
     },
     "execution_count": 12,
     "metadata": {},
     "output_type": "execute_result"
    }
   ],
   "source": [
    "step_para[0:100,6:9]"
   ]
  },
  {
   "cell_type": "code",
   "execution_count": 6,
   "id": "66e4fa47",
   "metadata": {},
   "outputs": [
    {
     "data": {
      "text/html": [
       "<div id=\"glowscript\" class=\"glowscript\"></div>"
      ],
      "text/plain": [
       "<IPython.core.display.HTML object>"
      ]
     },
     "metadata": {},
     "output_type": "display_data"
    },
    {
     "data": {
      "application/javascript": [
       "if (typeof Jupyter !== \"undefined\") { window.__context = { glowscript_container: $(\"#glowscript\").removeAttr(\"id\")};}else{ element.textContent = ' ';}"
      ],
      "text/plain": [
       "<IPython.core.display.Javascript object>"
      ]
     },
     "metadata": {},
     "output_type": "display_data"
    },
    {
     "data": {
      "application/javascript": [
       "if (typeof Jupyter !== \"undefined\") {require.undef(\"nbextensions/vpython_libraries/glow.min\");}else{element.textContent = ' ';}"
      ],
      "text/plain": [
       "<IPython.core.display.Javascript object>"
      ]
     },
     "metadata": {},
     "output_type": "display_data"
    },
    {
     "data": {
      "application/javascript": [
       "if (typeof Jupyter !== \"undefined\") {require.undef(\"nbextensions/vpython_libraries/glowcomm\");}else{element.textContent = ' ';}"
      ],
      "text/plain": [
       "<IPython.core.display.Javascript object>"
      ]
     },
     "metadata": {},
     "output_type": "display_data"
    },
    {
     "data": {
      "application/javascript": [
       "if (typeof Jupyter !== \"undefined\") {require.undef(\"nbextensions/vpython_libraries/jquery-ui.custom.min\");}else{element.textContent = ' ';}"
      ],
      "text/plain": [
       "<IPython.core.display.Javascript object>"
      ]
     },
     "metadata": {},
     "output_type": "display_data"
    },
    {
     "data": {
      "application/javascript": [
       "if (typeof Jupyter !== \"undefined\") {require([\"nbextensions/vpython_libraries/glow.min\"], function(){console.log(\"GLOW LOADED\");});}else{element.textContent = ' ';}"
      ],
      "text/plain": [
       "<IPython.core.display.Javascript object>"
      ]
     },
     "metadata": {},
     "output_type": "display_data"
    },
    {
     "data": {
      "application/javascript": [
       "if (typeof Jupyter !== \"undefined\") {require([\"nbextensions/vpython_libraries/glowcomm\"], function(){console.log(\"GLOWCOMM LOADED\");});}else{element.textContent = ' ';}"
      ],
      "text/plain": [
       "<IPython.core.display.Javascript object>"
      ]
     },
     "metadata": {},
     "output_type": "display_data"
    },
    {
     "data": {
      "application/javascript": [
       "if (typeof Jupyter !== \"undefined\") {require([\"nbextensions/vpython_libraries/jquery-ui.custom.min\"], function(){console.log(\"JQUERY LOADED\");});}else{element.textContent = ' ';}"
      ],
      "text/plain": [
       "<IPython.core.display.Javascript object>"
      ]
     },
     "metadata": {},
     "output_type": "display_data"
    },
    {
     "ename": "KeyboardInterrupt",
     "evalue": "",
     "output_type": "error",
     "traceback": [
      "\u001b[1;31m---------------------------------------------------------------------------\u001b[0m",
      "\u001b[1;31mKeyboardInterrupt\u001b[0m                         Traceback (most recent call last)",
      "\u001b[1;32m~\\AppData\\Local\\Temp\\ipykernel_25508\\3124767281.py\u001b[0m in \u001b[0;36m<module>\u001b[1;34m\u001b[0m\n\u001b[0;32m     63\u001b[0m \u001b[1;32mwhile\u001b[0m \u001b[1;32mTrue\u001b[0m\u001b[1;33m:\u001b[0m\u001b[1;33m\u001b[0m\u001b[1;33m\u001b[0m\u001b[0m\n\u001b[0;32m     64\u001b[0m     \u001b[1;32mfor\u001b[0m \u001b[0mi\u001b[0m \u001b[1;32min\u001b[0m \u001b[0mrange\u001b[0m \u001b[1;33m(\u001b[0m\u001b[1;36m1\u001b[0m\u001b[1;33m,\u001b[0m\u001b[0mstep\u001b[0m\u001b[1;33m)\u001b[0m\u001b[1;33m:\u001b[0m\u001b[1;33m\u001b[0m\u001b[1;33m\u001b[0m\u001b[0m\n\u001b[1;32m---> 65\u001b[1;33m         \u001b[0mrate\u001b[0m\u001b[1;33m(\u001b[0m\u001b[1;36m40\u001b[0m\u001b[1;33m)\u001b[0m\u001b[1;33m;\u001b[0m\u001b[1;33m\u001b[0m\u001b[1;33m\u001b[0m\u001b[0m\n\u001b[0m\u001b[0;32m     66\u001b[0m         \u001b[0mupara\u001b[0m \u001b[1;33m=\u001b[0m \u001b[0mstep_para\u001b[0m\u001b[1;33m[\u001b[0m\u001b[0mi\u001b[0m\u001b[1;33m]\u001b[0m\u001b[1;33m;\u001b[0m\u001b[1;33m\u001b[0m\u001b[1;33m\u001b[0m\u001b[0m\n\u001b[0;32m     67\u001b[0m         \u001b[0mnew_pos_3\u001b[0m \u001b[1;33m=\u001b[0m \u001b[0mstep_pos_3\u001b[0m\u001b[1;33m[\u001b[0m\u001b[0mi\u001b[0m\u001b[1;33m]\u001b[0m\u001b[1;33m;\u001b[0m\u001b[1;33m\u001b[0m\u001b[1;33m\u001b[0m\u001b[0m\n",
      "\u001b[1;32m~\\.conda\\envs\\general\\lib\\site-packages\\vpython\\rate_control.py\u001b[0m in \u001b[0;36m__call__\u001b[1;34m(self, N)\u001b[0m\n\u001b[0;32m    264\u001b[0m         \u001b[0mself\u001b[0m\u001b[1;33m.\u001b[0m\u001b[0mrval\u001b[0m \u001b[1;33m=\u001b[0m \u001b[0mN\u001b[0m\u001b[1;33m\u001b[0m\u001b[1;33m\u001b[0m\u001b[0m\n\u001b[0;32m    265\u001b[0m         \u001b[1;32mif\u001b[0m \u001b[0mself\u001b[0m\u001b[1;33m.\u001b[0m\u001b[0mrval\u001b[0m \u001b[1;33m<\u001b[0m \u001b[1;36m1\u001b[0m\u001b[1;33m:\u001b[0m \u001b[1;32mraise\u001b[0m \u001b[0mValueError\u001b[0m\u001b[1;33m(\u001b[0m\u001b[1;34m\"rate value must be greater than or equal to 1\"\u001b[0m\u001b[1;33m)\u001b[0m\u001b[1;33m\u001b[0m\u001b[1;33m\u001b[0m\u001b[0m\n\u001b[1;32m--> 266\u001b[1;33m         \u001b[0msuper\u001b[0m\u001b[1;33m(\u001b[0m\u001b[0m_RateKeeper2\u001b[0m\u001b[1;33m,\u001b[0m \u001b[0mself\u001b[0m\u001b[1;33m)\u001b[0m\u001b[1;33m.\u001b[0m\u001b[0m__call__\u001b[0m\u001b[1;33m(\u001b[0m\u001b[0mself\u001b[0m\u001b[1;33m.\u001b[0m\u001b[0mrval\u001b[0m\u001b[1;33m)\u001b[0m \u001b[1;31m## calls __call__ in rate_control.py\u001b[0m\u001b[1;33m\u001b[0m\u001b[1;33m\u001b[0m\u001b[0m\n\u001b[0m\u001b[0;32m    267\u001b[0m \u001b[1;33m\u001b[0m\u001b[0m\n\u001b[0;32m    268\u001b[0m \u001b[1;33m\u001b[0m\u001b[0m\n",
      "\u001b[1;32m~\\.conda\\envs\\general\\lib\\site-packages\\vpython\\rate_control.py\u001b[0m in \u001b[0;36m__call__\u001b[1;34m(self, maxRate)\u001b[0m\n\u001b[0;32m    212\u001b[0m                 \u001b[1;32mif\u001b[0m \u001b[0mself\u001b[0m\u001b[1;33m.\u001b[0m\u001b[0mwhenToRender\u001b[0m\u001b[1;33m[\u001b[0m\u001b[0mself\u001b[0m\u001b[1;33m.\u001b[0m\u001b[0mrenderIndex\u001b[0m\u001b[1;33m]\u001b[0m \u001b[1;33m==\u001b[0m \u001b[0mself\u001b[0m\u001b[1;33m.\u001b[0m\u001b[0mrateCount\u001b[0m\u001b[1;33m:\u001b[0m\u001b[1;33m\u001b[0m\u001b[1;33m\u001b[0m\u001b[0m\n\u001b[0;32m    213\u001b[0m                     \u001b[0msleeps\u001b[0m \u001b[1;33m+=\u001b[0m \u001b[1;36m1\u001b[0m\u001b[1;33m\u001b[0m\u001b[1;33m\u001b[0m\u001b[0m\n\u001b[1;32m--> 214\u001b[1;33m                     \u001b[0m_sleep\u001b[0m\u001b[1;33m(\u001b[0m\u001b[0mself\u001b[0m\u001b[1;33m.\u001b[0m\u001b[0minteractionPeriod\u001b[0m\u001b[1;33m)\u001b[0m\u001b[1;33m\u001b[0m\u001b[1;33m\u001b[0m\u001b[0m\n\u001b[0m\u001b[0;32m    215\u001b[0m                 \u001b[1;32melse\u001b[0m\u001b[1;33m:\u001b[0m\u001b[1;33m\u001b[0m\u001b[1;33m\u001b[0m\u001b[0m\n\u001b[0;32m    216\u001b[0m                     \u001b[1;32mbreak\u001b[0m\u001b[1;33m\u001b[0m\u001b[1;33m\u001b[0m\u001b[0m\n",
      "\u001b[1;32m~\\.conda\\envs\\general\\lib\\site-packages\\vpython\\rate_control.py\u001b[0m in \u001b[0;36m_sleep\u001b[1;34m(dt)\u001b[0m\n\u001b[0;32m     60\u001b[0m         \u001b[0mdtsleep\u001b[0m \u001b[1;33m=\u001b[0m \u001b[0mnticks\u001b[0m\u001b[1;33m*\u001b[0m\u001b[0m_tick\u001b[0m\u001b[1;33m\u001b[0m\u001b[1;33m\u001b[0m\u001b[0m\n\u001b[0;32m     61\u001b[0m         \u001b[0mt\u001b[0m \u001b[1;33m=\u001b[0m \u001b[0m_clock\u001b[0m\u001b[1;33m(\u001b[0m\u001b[1;33m)\u001b[0m\u001b[1;33m\u001b[0m\u001b[1;33m\u001b[0m\u001b[0m\n\u001b[1;32m---> 62\u001b[1;33m         \u001b[0mtime\u001b[0m\u001b[1;33m.\u001b[0m\u001b[0msleep\u001b[0m\u001b[1;33m(\u001b[0m\u001b[0mdtsleep\u001b[0m\u001b[1;33m)\u001b[0m\u001b[1;33m\u001b[0m\u001b[1;33m\u001b[0m\u001b[0m\n\u001b[0m\u001b[0;32m     63\u001b[0m         \u001b[0mt\u001b[0m \u001b[1;33m=\u001b[0m \u001b[0m_clock\u001b[0m\u001b[1;33m(\u001b[0m\u001b[1;33m)\u001b[0m\u001b[1;33m-\u001b[0m\u001b[0mt\u001b[0m\u001b[1;33m\u001b[0m\u001b[1;33m\u001b[0m\u001b[0m\n\u001b[0;32m     64\u001b[0m         \u001b[0mdt\u001b[0m \u001b[1;33m-=\u001b[0m \u001b[0mt\u001b[0m\u001b[1;33m\u001b[0m\u001b[1;33m\u001b[0m\u001b[0m\n",
      "\u001b[1;31mKeyboardInterrupt\u001b[0m: "
     ]
    }
   ],
   "source": [
    "scene = canvas(width=800,height=500,center=vector(0,0,0),background=color.white);\n",
    "\n",
    "new_pos_3 = step_pos_3[0];\n",
    "upara = step_para[0];\n",
    "#frame\n",
    "# x_arrow = arrow(pos=vector(0,0,0), axis=vector(10,0,0), shaftwidth=0.2, color=color.red, opacity=0.4); #x\n",
    "# label(pos=vector(10,0,0), text ='x', xoffset=-2, yoffset=5);\n",
    "# y_arrow = arrow(pos=vector(0,0,0), axis=vector(0,10,0), shaftwidth=0.2, color=color.green, opacity=0.4); #y\n",
    "# label(pos=vector(0,10,0), text ='y', xoffset=-2, yoffset=5);\n",
    "# z_arrow = arrow(pos=vector(0,0,0), axis=vector(0,0,10), shaftwidth=0.2, color=color.blue, opacity=0.4); #z\n",
    "# label(pos=vector(0,0,10), text ='z', xoffset=-2, yoffset=5);\n",
    "\n",
    "#joint 1 - fixed joint\n",
    "joint_f1_front = cylinder(pos=vector(Fixed_para[1,0],Fixed_para[1,1],Fixed_para[1,2]), axis=vector(0.5*Fixed_para[3,0],0.5*Fixed_para[3,1],0.5*Fixed_para[3,2]),radius=0.5,color=vector(0.5,0.5,0.5));\n",
    "joint_f1_back = cylinder(pos=vector(Fixed_para[1,0],Fixed_para[1,1],Fixed_para[1,2]), axis=vector(-0.5*Fixed_para[3,0],-0.5*Fixed_para[3,1],-0.5*Fixed_para[3,2]),radius=0.5,color=vector(0.5,0.5,0.5));\n",
    "#joint 1 - revolute joint\n",
    "joint_r1_front = cylinder(pos=vector(Fixed_para[1,0],Fixed_para[1,1],Fixed_para[1,2]), axis=vector(Fixed_para[3,0],Fixed_para[3,1],Fixed_para[3,2]),radius=0.3,color=color.red);\n",
    "joint_r1_back = cylinder(pos=vector(Fixed_para[1,0],Fixed_para[1,1],Fixed_para[1,2]), axis=vector(-Fixed_para[3,0],-Fixed_para[3,1],-Fixed_para[3,2]),radius=0.3,color=color.red);\n",
    "\n",
    "#joint 2 - fixed joint\n",
    "joint_r2_front = cylinder(pos=vector(Fixed_para[2,0],Fixed_para[2,1],Fixed_para[2,2]), axis=vector(0.5*Fixed_para[4,0],0.5*Fixed_para[4,1],0.5*Fixed_para[4,2]),radius=0.5,color=vector(0.5,0.5,0.5));\n",
    "joint_r2_back = cylinder(pos=vector(Fixed_para[2,0],Fixed_para[2,1],Fixed_para[2,2]), axis=vector(-0.5*Fixed_para[4,0],-0.5*Fixed_para[4,1],-0.5*Fixed_para[4,2]),radius=0.5,color=vector(0.5,0.5,0.5));\n",
    "#joint 2 - revolute joint\n",
    "joint_r2_front = cylinder(pos=vector(Fixed_para[2,0],Fixed_para[2,1],Fixed_para[2,2]), axis=vector(Fixed_para[4,0],Fixed_para[4,1],Fixed_para[4,2]),radius=0.3,color=color.blue);\n",
    "joint_r2_back = cylinder(pos=vector(Fixed_para[2,0],Fixed_para[2,1],Fixed_para[2,2]), axis=vector(-Fixed_para[4,0],-Fixed_para[4,1],-Fixed_para[4,2]),radius=0.3,color=color.blue);\n",
    "\n",
    "#joint 3 - spherical joint\n",
    "joint_s3 = sphere(pos=vector(new_pos_3[0],new_pos_3[1],new_pos_3[2]),radius=0.2);\n",
    "\n",
    "#joint m - middle joint of joint 3 and joint 4\n",
    "joint_m4 = sphere(pos=vector(0.7*(upara[0]-new_pos_3[0])+new_pos_3[0],0.7*(upara[1]-new_pos_3[1])+new_pos_3[1],0.7*(upara[2]-new_pos_3[2])+new_pos_3[2]),radius=0.05, color=color.cyan);\n",
    "joint_b4 = sphere(pos=vector(0.7*(upara[0]-new_pos_3[0])+new_pos_3[0],0.7*(upara[1]-new_pos_3[1])+new_pos_3[1],0.7*(upara[2]-new_pos_3[2])+new_pos_3[2]),radius=0.2\n",
    "                  , color=color.cyan);\n",
    "\n",
    "\n",
    "#joint 4 - connect joint of joint 3 and joint 5\n",
    "vector_45 = 2*(vector(upara[6],upara[7],upara[8]));\n",
    "joint_s4 = sphere(pos=vector(upara[0],upara[1],upara[2]),radius=0.15, color=color.green);\n",
    "\n",
    "#joint 5 - sliding joint\n",
    "joint_c5_front = cylinder(pos=vector(upara[3],upara[4],upara[5]), axis=vector(0.3*upara[6],0.3*upara[7],0.3*upara[8]),radius=0.3,color=color.blue);\n",
    "joint_c5_back = cylinder(pos=vector(upara[3],upara[4],upara[5]), axis=vector(-0.3*upara[6],-0.3*upara[7],-0.3*upara[8]),radius=0.3,color=color.blue);\n",
    "\n",
    "\n",
    "#bar 13\n",
    "vector_13 = -vector(Fixed_para[1,0],Fixed_para[1,1],Fixed_para[1,2])+vector(new_pos_3[0],new_pos_3[1],new_pos_3[2]);\n",
    "bar_13 = cylinder(pos=vector(Fixed_para[1,0],Fixed_para[1,1],Fixed_para[1,2]), axis=vector_13, radius=0.15, color=color.red);\n",
    "\n",
    "#bar 34\n",
    "vector_34 = vector(upara[0],upara[1],upara[2])-vector(new_pos_3[0],new_pos_3[1],new_pos_3[2]);\n",
    "bar_34 = cylinder(pos=vector(new_pos_3[0],new_pos_3[1],new_pos_3[2]), axis=vector_34, radius=0.15, color=color.green, opacity=0.6);\n",
    "\n",
    "#bar 45\n",
    "#vector_45 = 10*(vector(upara[0][3],upara[0][4],upara[0][5])-vector(upara[0][0],upara[0][1],upara[0][2]));\n",
    "vector_45 = 2*(vector(upara[6],upara[7],upara[8]));\n",
    "bar_45 = cylinder(pos=vector(upara[0],upara[1],upara[2]), axis=vector_45, radius=0.15, color=color.green, opacity=0.6);\n",
    "bar_45_back = cylinder(pos=vector(upara[0],upara[1],upara[2]), axis=-vector_45, radius=0.15, color=color.green, opacity=0.6);\n",
    "\n",
    "#bar 52\n",
    "vector_52 = -vector(Fixed_para[2,0],Fixed_para[2,1],Fixed_para[2,2])+vector(upara[3],upara[4],upara[5]);\n",
    "bar_52 = cylinder(pos=vector(Fixed_para[2,0],Fixed_para[2,1],Fixed_para[2,2]), axis=vector_52, radius=0.15, color=color.blue);\n",
    "\n",
    "while True:\n",
    "    for i in range (1,step):\n",
    "        rate(40);\n",
    "        upara = step_para[i];\n",
    "        new_pos_3 = step_pos_3[i];\n",
    "        joint_s3.pos = vector(new_pos_3[0],new_pos_3[1],new_pos_3[2]);\n",
    "        joint_s4.pos = vector(upara[0],upara[1],upara[2]);\n",
    "        joint_c5_front.pos = vector(upara[3],upara[4],upara[5]);\n",
    "        joint_c5_back.pos = vector(upara[3],upara[4],upara[5]);\n",
    "        \n",
    "        joint_m4 = sphere(pos=vector(0.7*(upara[0]-new_pos_3[0])+new_pos_3[0],0.7*(upara[1]-new_pos_3[1])+new_pos_3[1],0.7*(upara[2]-new_pos_3[2])+new_pos_3[2]),radius=0.05, color=color.cyan);\n",
    "        joint_b4.pos = vector(0.7*(upara[0]-new_pos_3[0])+new_pos_3[0],0.7*(upara[1]-new_pos_3[1])+new_pos_3[1],0.7*(upara[2]-new_pos_3[2])+new_pos_3[2]);\n",
    "\n",
    "        joint_c5_front.axis = vector(0.5*upara[6],0.5*upara[7],0.5*upara[8]);\n",
    "        joint_c5_back.axis = vector(-0.5*upara[6],-0.5*upara[7],-0.5*upara[8]);\n",
    "\n",
    "        vector_13 = -vector(Fixed_para[1,0],Fixed_para[1,1],Fixed_para[1,2])+vector(new_pos_3[0],new_pos_3[1],new_pos_3[2]);\n",
    "        bar_13.axis = vector_13;\n",
    "\n",
    "        vector_34 = vector(upara[0],upara[1],upara[2])-vector(new_pos_3[0],new_pos_3[1],new_pos_3[2]);\n",
    "        bar_34.pos = vector(new_pos_3[0],new_pos_3[1],new_pos_3[2]);\n",
    "        bar_34.axis = vector_34;\n",
    "\n",
    "        vector_45 = 2*(vector(upara[6],upara[7],upara[8]));\n",
    "        bar_45.pos = vector(upara[0],upara[1],upara[2]);\n",
    "        bar_45.axis = vector_45;\n",
    "        bar_45_back.pos = vector(upara[0],upara[1],upara[2]);\n",
    "        bar_45_back.axis = -vector_45;\n",
    "\n",
    "        vector_52 = -vector(Fixed_para[2,0],Fixed_para[2,1],Fixed_para[2,2])+vector(upara[3],upara[4],upara[5]);\n",
    "        bar_52.axis = vector_52;\n",
    "\n",
    "        #for j in range (2):\n",
    "            #dot = sphere(pos=vector(storage_data[i,j,0],storage_data[i,j,1],storage_data[i,j,2]),radius=0.05,color=color.orange);"
   ]
  },
  {
   "cell_type": "code",
   "execution_count": 7,
   "id": "501a087d",
   "metadata": {},
   "outputs": [
    {
     "data": {
      "text/html": [
       "<div id=\"glowscript\" class=\"glowscript\"></div>"
      ],
      "text/plain": [
       "<IPython.core.display.HTML object>"
      ]
     },
     "metadata": {},
     "output_type": "display_data"
    },
    {
     "data": {
      "application/javascript": [
       "if (typeof Jupyter !== \"undefined\") { window.__context = { glowscript_container: $(\"#glowscript\").removeAttr(\"id\")};}else{ element.textContent = ' ';}"
      ],
      "text/plain": [
       "<IPython.core.display.Javascript object>"
      ]
     },
     "metadata": {},
     "output_type": "display_data"
    },
    {
     "ename": "KeyboardInterrupt",
     "evalue": "",
     "output_type": "error",
     "traceback": [
      "\u001b[1;31m---------------------------------------------------------------------------\u001b[0m",
      "\u001b[1;31mKeyboardInterrupt\u001b[0m                         Traceback (most recent call last)",
      "\u001b[1;32m~\\AppData\\Local\\Temp\\ipykernel_58864\\1703717559.py\u001b[0m in \u001b[0;36m<module>\u001b[1;34m\u001b[0m\n\u001b[0;32m     69\u001b[0m \u001b[1;32mwhile\u001b[0m \u001b[1;32mTrue\u001b[0m\u001b[1;33m:\u001b[0m\u001b[1;33m\u001b[0m\u001b[1;33m\u001b[0m\u001b[0m\n\u001b[0;32m     70\u001b[0m     \u001b[1;32mfor\u001b[0m \u001b[0mi\u001b[0m \u001b[1;32min\u001b[0m \u001b[0mrange\u001b[0m \u001b[1;33m(\u001b[0m\u001b[1;36m1\u001b[0m\u001b[1;33m,\u001b[0m\u001b[0mstep\u001b[0m\u001b[1;33m)\u001b[0m\u001b[1;33m:\u001b[0m\u001b[1;33m\u001b[0m\u001b[1;33m\u001b[0m\u001b[0m\n\u001b[1;32m---> 71\u001b[1;33m         \u001b[0mrate\u001b[0m\u001b[1;33m(\u001b[0m\u001b[1;36m40\u001b[0m\u001b[1;33m)\u001b[0m\u001b[1;33m;\u001b[0m\u001b[1;33m\u001b[0m\u001b[1;33m\u001b[0m\u001b[0m\n\u001b[0m\u001b[0;32m     72\u001b[0m         \u001b[0mupara\u001b[0m \u001b[1;33m=\u001b[0m \u001b[0mstep_para\u001b[0m\u001b[1;33m[\u001b[0m\u001b[0mi\u001b[0m\u001b[1;33m]\u001b[0m\u001b[1;33m;\u001b[0m\u001b[1;33m\u001b[0m\u001b[1;33m\u001b[0m\u001b[0m\n\u001b[0;32m     73\u001b[0m         \u001b[0mnew_pos_3\u001b[0m \u001b[1;33m=\u001b[0m \u001b[0mstep_pos_3\u001b[0m\u001b[1;33m[\u001b[0m\u001b[0mi\u001b[0m\u001b[1;33m]\u001b[0m\u001b[1;33m;\u001b[0m\u001b[1;33m\u001b[0m\u001b[1;33m\u001b[0m\u001b[0m\n",
      "\u001b[1;32m~\\.conda\\envs\\general\\lib\\site-packages\\vpython\\rate_control.py\u001b[0m in \u001b[0;36m__call__\u001b[1;34m(self, N)\u001b[0m\n\u001b[0;32m    264\u001b[0m         \u001b[0mself\u001b[0m\u001b[1;33m.\u001b[0m\u001b[0mrval\u001b[0m \u001b[1;33m=\u001b[0m \u001b[0mN\u001b[0m\u001b[1;33m\u001b[0m\u001b[1;33m\u001b[0m\u001b[0m\n\u001b[0;32m    265\u001b[0m         \u001b[1;32mif\u001b[0m \u001b[0mself\u001b[0m\u001b[1;33m.\u001b[0m\u001b[0mrval\u001b[0m \u001b[1;33m<\u001b[0m \u001b[1;36m1\u001b[0m\u001b[1;33m:\u001b[0m \u001b[1;32mraise\u001b[0m \u001b[0mValueError\u001b[0m\u001b[1;33m(\u001b[0m\u001b[1;34m\"rate value must be greater than or equal to 1\"\u001b[0m\u001b[1;33m)\u001b[0m\u001b[1;33m\u001b[0m\u001b[1;33m\u001b[0m\u001b[0m\n\u001b[1;32m--> 266\u001b[1;33m         \u001b[0msuper\u001b[0m\u001b[1;33m(\u001b[0m\u001b[0m_RateKeeper2\u001b[0m\u001b[1;33m,\u001b[0m \u001b[0mself\u001b[0m\u001b[1;33m)\u001b[0m\u001b[1;33m.\u001b[0m\u001b[0m__call__\u001b[0m\u001b[1;33m(\u001b[0m\u001b[0mself\u001b[0m\u001b[1;33m.\u001b[0m\u001b[0mrval\u001b[0m\u001b[1;33m)\u001b[0m \u001b[1;31m## calls __call__ in rate_control.py\u001b[0m\u001b[1;33m\u001b[0m\u001b[1;33m\u001b[0m\u001b[0m\n\u001b[0m\u001b[0;32m    267\u001b[0m \u001b[1;33m\u001b[0m\u001b[0m\n\u001b[0;32m    268\u001b[0m \u001b[1;33m\u001b[0m\u001b[0m\n",
      "\u001b[1;32m~\\.conda\\envs\\general\\lib\\site-packages\\vpython\\rate_control.py\u001b[0m in \u001b[0;36m__call__\u001b[1;34m(self, maxRate)\u001b[0m\n\u001b[0;32m    212\u001b[0m                 \u001b[1;32mif\u001b[0m \u001b[0mself\u001b[0m\u001b[1;33m.\u001b[0m\u001b[0mwhenToRender\u001b[0m\u001b[1;33m[\u001b[0m\u001b[0mself\u001b[0m\u001b[1;33m.\u001b[0m\u001b[0mrenderIndex\u001b[0m\u001b[1;33m]\u001b[0m \u001b[1;33m==\u001b[0m \u001b[0mself\u001b[0m\u001b[1;33m.\u001b[0m\u001b[0mrateCount\u001b[0m\u001b[1;33m:\u001b[0m\u001b[1;33m\u001b[0m\u001b[1;33m\u001b[0m\u001b[0m\n\u001b[0;32m    213\u001b[0m                     \u001b[0msleeps\u001b[0m \u001b[1;33m+=\u001b[0m \u001b[1;36m1\u001b[0m\u001b[1;33m\u001b[0m\u001b[1;33m\u001b[0m\u001b[0m\n\u001b[1;32m--> 214\u001b[1;33m                     \u001b[0m_sleep\u001b[0m\u001b[1;33m(\u001b[0m\u001b[0mself\u001b[0m\u001b[1;33m.\u001b[0m\u001b[0minteractionPeriod\u001b[0m\u001b[1;33m)\u001b[0m\u001b[1;33m\u001b[0m\u001b[1;33m\u001b[0m\u001b[0m\n\u001b[0m\u001b[0;32m    215\u001b[0m                 \u001b[1;32melse\u001b[0m\u001b[1;33m:\u001b[0m\u001b[1;33m\u001b[0m\u001b[1;33m\u001b[0m\u001b[0m\n\u001b[0;32m    216\u001b[0m                     \u001b[1;32mbreak\u001b[0m\u001b[1;33m\u001b[0m\u001b[1;33m\u001b[0m\u001b[0m\n",
      "\u001b[1;32m~\\.conda\\envs\\general\\lib\\site-packages\\vpython\\rate_control.py\u001b[0m in \u001b[0;36m_sleep\u001b[1;34m(dt)\u001b[0m\n\u001b[0;32m     60\u001b[0m         \u001b[0mdtsleep\u001b[0m \u001b[1;33m=\u001b[0m \u001b[0mnticks\u001b[0m\u001b[1;33m*\u001b[0m\u001b[0m_tick\u001b[0m\u001b[1;33m\u001b[0m\u001b[1;33m\u001b[0m\u001b[0m\n\u001b[0;32m     61\u001b[0m         \u001b[0mt\u001b[0m \u001b[1;33m=\u001b[0m \u001b[0m_clock\u001b[0m\u001b[1;33m(\u001b[0m\u001b[1;33m)\u001b[0m\u001b[1;33m\u001b[0m\u001b[1;33m\u001b[0m\u001b[0m\n\u001b[1;32m---> 62\u001b[1;33m         \u001b[0mtime\u001b[0m\u001b[1;33m.\u001b[0m\u001b[0msleep\u001b[0m\u001b[1;33m(\u001b[0m\u001b[0mdtsleep\u001b[0m\u001b[1;33m)\u001b[0m\u001b[1;33m\u001b[0m\u001b[1;33m\u001b[0m\u001b[0m\n\u001b[0m\u001b[0;32m     63\u001b[0m         \u001b[0mt\u001b[0m \u001b[1;33m=\u001b[0m \u001b[0m_clock\u001b[0m\u001b[1;33m(\u001b[0m\u001b[1;33m)\u001b[0m\u001b[1;33m-\u001b[0m\u001b[0mt\u001b[0m\u001b[1;33m\u001b[0m\u001b[1;33m\u001b[0m\u001b[0m\n\u001b[0;32m     64\u001b[0m         \u001b[0mdt\u001b[0m \u001b[1;33m-=\u001b[0m \u001b[0mt\u001b[0m\u001b[1;33m\u001b[0m\u001b[1;33m\u001b[0m\u001b[0m\n",
      "\u001b[1;31mKeyboardInterrupt\u001b[0m: "
     ]
    }
   ],
   "source": [
    "scene = canvas(width=800,height=500,center=vector(0,0,3),background=color.white);\n",
    "\n",
    "new_pos_3 = step_pos_3[0];\n",
    "upara = step_para[0];\n",
    "#frame\n",
    "# x_arrow = arrow(pos=vector(0,0,0), axis=vector(10,0,0), shaftwidth=0.2, color=color.red, opacity=0.4); #x\n",
    "# label(pos=vector(10,0,0), text ='x', xoffset=-2, yoffset=5);\n",
    "# y_arrow = arrow(pos=vector(0,0,0), axis=vector(0,10,0), shaftwidth=0.2, color=color.green, opacity=0.4); #y\n",
    "# label(pos=vector(0,10,0), text ='y', xoffset=-2, yoffset=5);\n",
    "# z_arrow = arrow(pos=vector(0,0,0), axis=vector(0,0,10), shaftwidth=0.2, color=color.blue, opacity=0.4); #z\n",
    "# label(pos=vector(0,0,10), text ='z', xoffset=-2, yoffset=5);\n",
    "\n",
    "#joint 1 - fixed joint\n",
    "joint_f1_front = cylinder(pos=vector(Fixed_para[1,0],Fixed_para[1,1],Fixed_para[1,2]), axis=vector(0.5*Fixed_para[3,0],0.5*Fixed_para[3,1],0.5*Fixed_para[3,2]),radius=0.5,color=vector(0.5,0.5,0.5));\n",
    "joint_f1_back = cylinder(pos=vector(Fixed_para[1,0],Fixed_para[1,1],Fixed_para[1,2]), axis=vector(-0.5*Fixed_para[3,0],-0.5*Fixed_para[3,1],-0.5*Fixed_para[3,2]),radius=0.5,color=vector(0.5,0.5,0.5));\n",
    "#joint 1 - revolute joint\n",
    "joint_r1_front = cylinder(pos=vector(Fixed_para[1,0],Fixed_para[1,1],Fixed_para[1,2]), axis=vector(Fixed_para[3,0],Fixed_para[3,1],Fixed_para[3,2]),radius=0.3,color=color.red);\n",
    "joint_r1_back = cylinder(pos=vector(Fixed_para[1,0],Fixed_para[1,1],Fixed_para[1,2]), axis=vector(-Fixed_para[3,0],-Fixed_para[3,1],-Fixed_para[3,2]),radius=0.3,color=color.red);\n",
    "\n",
    "#joint 2 - fixed joint\n",
    "joint_r2_front = cylinder(pos=vector(Fixed_para[2,0],Fixed_para[2,1],Fixed_para[2,2]), axis=vector(0.5*Fixed_para[4,0],0.5*Fixed_para[4,1],0.5*Fixed_para[4,2]),radius=0.5,color=vector(0.5,0.5,0.5));\n",
    "joint_r2_back = cylinder(pos=vector(Fixed_para[2,0],Fixed_para[2,1],Fixed_para[2,2]), axis=vector(-0.5*Fixed_para[4,0],-0.5*Fixed_para[4,1],-0.5*Fixed_para[4,2]),radius=0.5,color=vector(0.5,0.5,0.5));\n",
    "#joint 2 - revolute joint\n",
    "joint_r2_front = cylinder(pos=vector(Fixed_para[2,0],Fixed_para[2,1],Fixed_para[2,2]), axis=vector(Fixed_para[4,0],Fixed_para[4,1],Fixed_para[4,2]),radius=0.3,color=color.blue);\n",
    "joint_r2_back = cylinder(pos=vector(Fixed_para[2,0],Fixed_para[2,1],Fixed_para[2,2]), axis=vector(-Fixed_para[4,0],-Fixed_para[4,1],-Fixed_para[4,2]),radius=0.3,color=color.blue);\n",
    "\n",
    "#joint 3 - spherical joint\n",
    "joint_s3 = sphere(pos=vector(new_pos_3[0],new_pos_3[1],new_pos_3[2]),radius=0.3);\n",
    "\n",
    "#joint m - middle joint of joint 3 and joint 4\n",
    "vector_6 = vector(0.7*(upara[0]-new_pos_3[0])+new_pos_3[0],0.7*(upara[1]-new_pos_3[1])+new_pos_3[1],0.7*(upara[2]-new_pos_3[2])+new_pos_3[2])\n",
    "joint_m6 = sphere(pos=vector_6,radius=0.05, color=color.cyan);\n",
    "joint_b6 = sphere(pos=vector_6,radius=0.2, color=color.cyan);\n",
    "\n",
    "\n",
    "#joint 4 - connect joint of joint 3 and joint 5\n",
    "#vector_45 = 2*(vector(upara[6],upara[7],upara[8]));\n",
    "vector_4 = vector(upara[0]-3*upara[6],upara[1]-3*upara[7],upara[2]-3*upara[8])\n",
    "joint_s4 = sphere(pos=vector(upara[0]-3*upara[6],upara[1]-3*upara[7],upara[2]-3*upara[8]),radius=0.15, color=color.green);\n",
    "\n",
    "#joint 5 - sliding joint\n",
    "joint_c5_front = cylinder(pos=vector(upara[3],upara[4],upara[5]), axis=vector(0.3*upara[6],0.3*upara[7],0.3*upara[8]),radius=0.3,color=color.blue);\n",
    "joint_c5_back = cylinder(pos=vector(upara[3],upara[4],upara[5]), axis=vector(-0.3*upara[6],-0.3*upara[7],-0.3*upara[8]),radius=0.3,color=color.blue);\n",
    "\n",
    "\n",
    "#bar 13\n",
    "vector_13 = -vector(Fixed_para[1,0],Fixed_para[1,1],Fixed_para[1,2])+vector(new_pos_3[0],new_pos_3[1],new_pos_3[2]);\n",
    "bar_13 = cylinder(pos=vector(Fixed_para[1,0],Fixed_para[1,1],Fixed_para[1,2]), axis=vector_13, radius=0.15, color=color.red);\n",
    "\n",
    "#bar 34\n",
    "vector_34 = vector(upara[0]-3*upara[6],upara[1]-3*upara[7],upara[2]-3*upara[8])-vector(new_pos_3[0],new_pos_3[1],new_pos_3[2]);\n",
    "bar_34 = cylinder(pos=vector(new_pos_3[0],new_pos_3[1],new_pos_3[2]), axis=vector_34, radius=0.15, color=color.green, opacity=0.6);\n",
    "\n",
    "\n",
    "#bar 46\n",
    "vector_46 = vector_6-vector_4\n",
    "bar_46 = cylinder(pos=vector_4, axis=1.5*vector_46, radius=0.15, color=color.green, opacity=0.6);\n",
    "\n",
    "#bar 45\n",
    "#vector_45 = 10*(vector(upara[0][3],upara[0][4],upara[0][5])-vector(upara[0][0],upara[0][1],upara[0][2]));\n",
    "vector_45 = 3*(vector(upara[6],upara[7],upara[8]));\n",
    "bar_45 = cylinder(pos=vector(upara[0]+3*upara[6],upara[1]+3*upara[7],upara[2]+3*upara[8]), axis=vector_45, radius=0.15, color=color.green, opacity=0.6);\n",
    "bar_45_back = cylinder(pos=vector(upara[0]+3*upara[6],upara[1]+3*upara[7],upara[2]+3*upara[8]), axis=-vector_45, radius=0.15, color=color.green, opacity=0.6);\n",
    "\n",
    "#bar 52\n",
    "vector_52 = -vector(Fixed_para[2,0],Fixed_para[2,1],Fixed_para[2,2])+vector(upara[3],upara[4],upara[5]);\n",
    "bar_52 = cylinder(pos=vector(Fixed_para[2,0],Fixed_para[2,1],Fixed_para[2,2]), axis=vector_52, radius=0.15, color=color.blue);\n",
    "\n",
    "while True:\n",
    "    for i in range (1,step):\n",
    "        rate(40);\n",
    "        upara = step_para[i];\n",
    "        new_pos_3 = step_pos_3[i];\n",
    "        joint_s3.pos = vector(new_pos_3[0],new_pos_3[1],new_pos_3[2]);\n",
    "        joint_s4.pos = vector(upara[0]-upara[6],upara[1]-upara[7],upara[2]-upara[8]);\n",
    "        joint_c5_front.pos = vector(upara[3],upara[4],upara[5]);\n",
    "        joint_c5_back.pos = vector(upara[3],upara[4],upara[5]);\n",
    "        \n",
    "        vector_6 = vector(0.7*(upara[0]-new_pos_3[0])+new_pos_3[0],0.7*(upara[1]-new_pos_3[1])+new_pos_3[1],0.7*(upara[2]-new_pos_3[2])+new_pos_3[2])\n",
    "        joint_m6 = sphere(pos=vector_6,radius=0.05, color=color.cyan);\n",
    "        joint_b6.pos = vector_6 = vector(0.7*(upara[0]-new_pos_3[0])+new_pos_3[0],0.7*(upara[1]-new_pos_3[1])+new_pos_3[1],0.7*(upara[2]-new_pos_3[2])+new_pos_3[2])\n",
    "        joint_s4.pos = vector(upara[0]+3*upara[6],upara[1]+3*upara[7],upara[2]+3*upara[8])\n",
    "        \n",
    "        joint_c5_front.axis = vector(0.5*upara[6],0.5*upara[7],0.5*upara[8]);\n",
    "        joint_c5_back.axis = vector(-0.5*upara[6],-0.5*upara[7],-0.5*upara[8]);\n",
    "\n",
    "        vector_13 = -vector(Fixed_para[1,0],Fixed_para[1,1],Fixed_para[1,2])+vector(new_pos_3[0],new_pos_3[1],new_pos_3[2]);\n",
    "        bar_13.axis = vector_13;\n",
    "    \n",
    "        vector_34 = vector(upara[0]-3*upara[6],upara[1]-3*upara[7],upara[2]-3*upara[8])-vector(new_pos_3[0],new_pos_3[1],new_pos_3[2]);\n",
    "        bar_34.pos = vector(new_pos_3[0],new_pos_3[1],new_pos_3[2]);\n",
    "        bar_34.axis = vector_34;\n",
    "        \n",
    "        vector_4 = vector(upara[0]+3*upara[6],upara[1]+3*upara[7],upara[2]+3*upara[8])\n",
    "        vector_46 = vector_6-vector_4\n",
    "        bar_46.pos = vector_4\n",
    "        bar_46.axis = 1.5*vector_46\n",
    "\n",
    "        vector_45 = 3*(vector(upara[6],upara[7],upara[8]));\n",
    "        bar_45.pos = vector(upara[0],upara[1],upara[2]);\n",
    "        bar_45.axis = vector_45;\n",
    "        bar_45_back.pos = vector(upara[0],upara[1],upara[2]);\n",
    "        bar_45_back.axis = -vector_45;\n",
    "\n",
    "        vector_52 = -vector(Fixed_para[2,0],Fixed_para[2,1],Fixed_para[2,2])+vector(upara[3],upara[4],upara[5]);\n",
    "        bar_52.axis = vector_52;\n",
    "\n",
    "        #for j in range (2):\n",
    "            #dot = sphere(pos=vector(storage_data[i,j,0],storage_data[i,j,1],storage_data[i,j,2]),radius=0.05,color=color.orange);"
   ]
  },
  {
   "cell_type": "code",
   "execution_count": null,
   "id": "8907390f",
   "metadata": {},
   "outputs": [],
   "source": [
    "step_para[0,0:3]"
   ]
  },
  {
   "cell_type": "code",
   "execution_count": null,
   "id": "5a5633d0",
   "metadata": {},
   "outputs": [],
   "source": [
    "step_pos_3"
   ]
  },
  {
   "cell_type": "code",
   "execution_count": null,
   "id": "b4eefa9d",
   "metadata": {},
   "outputs": [],
   "source": [
    "m_point = 0.5*(step_pos_3+step_para[:,0:3])"
   ]
  },
  {
   "cell_type": "code",
   "execution_count": null,
   "id": "5bd69240",
   "metadata": {},
   "outputs": [],
   "source": [
    "m_point"
   ]
  },
  {
   "cell_type": "code",
   "execution_count": null,
   "id": "f8079dad",
   "metadata": {},
   "outputs": [],
   "source": [
    "joint_m4 = sphere(pos=vector(0.5*(upara[0]+new_pos_3[0]),0.5*(upara[1]+new_pos_3[1]),0.5*(upara[2]+new_pos_3[2])),radius=0.15, color=color.orange);\n"
   ]
  },
  {
   "cell_type": "code",
   "execution_count": null,
   "id": "54ad7710",
   "metadata": {},
   "outputs": [],
   "source": []
  },
  {
   "cell_type": "code",
   "execution_count": null,
   "id": "be8fc25a",
   "metadata": {},
   "outputs": [],
   "source": []
  }
 ],
 "metadata": {
  "kernelspec": {
   "display_name": "general",
   "language": "python",
   "name": "general"
  },
  "language_info": {
   "codemirror_mode": {
    "name": "ipython",
    "version": 3
   },
   "file_extension": ".py",
   "mimetype": "text/x-python",
   "name": "python",
   "nbconvert_exporter": "python",
   "pygments_lexer": "ipython3",
   "version": "3.7.16"
  }
 },
 "nbformat": 4,
 "nbformat_minor": 5
}
